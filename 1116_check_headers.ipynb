{
 "cells": [
  {
   "cell_type": "code",
   "execution_count": 1,
   "metadata": {},
   "outputs": [],
   "source": [
    "import pandas as pd"
   ]
  },
  {
   "cell_type": "code",
   "execution_count": null,
   "metadata": {},
   "outputs": [],
   "source": [
    "#load in 5 rows from each year\n",
    "df_2014_5rows=pd.read_csv('H-1B_2014.csv', nrows=5)"
   ]
  },
  {
   "cell_type": "code",
   "execution_count": 3,
   "metadata": {},
   "outputs": [],
   "source": [
    "df_2015_5rows=pd.read_csv('H-1B_2015.csv', nrows=5)"
   ]
  },
  {
   "cell_type": "code",
   "execution_count": 4,
   "metadata": {},
   "outputs": [],
   "source": [
    "df_2016_5rows=pd.read_csv('H-1B_2016.csv', nrows=5)"
   ]
  },
  {
   "cell_type": "code",
   "execution_count": 5,
   "metadata": {},
   "outputs": [],
   "source": [
    "df_2017_5rows=pd.read_csv('H-1B_2017.csv', nrows=5)"
   ]
  },
  {
   "cell_type": "code",
   "execution_count": 6,
   "metadata": {},
   "outputs": [],
   "source": [
    "#get column names\n",
    "col_2014=set(df_2014_5rows.columns)"
   ]
  },
  {
   "cell_type": "code",
   "execution_count": 7,
   "metadata": {},
   "outputs": [],
   "source": [
    "col_2015=set(df_2015_5rows.columns)"
   ]
  },
  {
   "cell_type": "code",
   "execution_count": 8,
   "metadata": {},
   "outputs": [],
   "source": [
    "col_2016=set(df_2016_5rows.columns)"
   ]
  },
  {
   "cell_type": "code",
   "execution_count": 9,
   "metadata": {},
   "outputs": [],
   "source": [
    "col_2017=set(df_2017_5rows.columns)"
   ]
  },
  {
   "cell_type": "code",
   "execution_count": 10,
   "metadata": {},
   "outputs": [
    {
     "data": {
      "text/plain": [
       "{'DECISION_DATE',\n",
       " 'FULL_TIME_POS',\n",
       " 'LCA_CASE_EMPLOYER_ADDRESS',\n",
       " 'LCA_CASE_EMPLOYER_CITY',\n",
       " 'LCA_CASE_EMPLOYER_NAME',\n",
       " 'LCA_CASE_EMPLOYER_POSTAL_CODE',\n",
       " 'LCA_CASE_EMPLOYER_STATE',\n",
       " 'LCA_CASE_EMPLOYMENT_END_DATE',\n",
       " 'LCA_CASE_EMPLOYMENT_START_DATE',\n",
       " 'LCA_CASE_JOB_TITLE',\n",
       " 'LCA_CASE_NAICS_CODE',\n",
       " 'LCA_CASE_NUMBER',\n",
       " 'LCA_CASE_SOC_CODE',\n",
       " 'LCA_CASE_SOC_NAME',\n",
       " 'LCA_CASE_SUBMIT',\n",
       " 'LCA_CASE_WAGE_RATE_FROM',\n",
       " 'LCA_CASE_WAGE_RATE_TO',\n",
       " 'LCA_CASE_WAGE_RATE_UNIT',\n",
       " 'LCA_CASE_WORKLOC1_CITY',\n",
       " 'LCA_CASE_WORKLOC1_STATE',\n",
       " 'LCA_CASE_WORKLOC2_CITY',\n",
       " 'LCA_CASE_WORKLOC2_STATE',\n",
       " 'OTHER_WAGE_SOURCE_1',\n",
       " 'OTHER_WAGE_SOURCE_2',\n",
       " 'PW_1',\n",
       " 'PW_2',\n",
       " 'PW_SOURCE_1',\n",
       " 'PW_SOURCE_2',\n",
       " 'PW_UNIT_1',\n",
       " 'PW_UNIT_2',\n",
       " 'STATUS',\n",
       " 'TOTAL_WORKERS',\n",
       " 'VISA_CLASS',\n",
       " 'YR_SOURCE_PUB_1',\n",
       " 'YR_SOURCE_PUB_2'}"
      ]
     },
     "execution_count": 10,
     "metadata": {},
     "output_type": "execute_result"
    }
   ],
   "source": [
    "col_2014"
   ]
  },
  {
   "cell_type": "code",
   "execution_count": 14,
   "metadata": {},
   "outputs": [
    {
     "data": {
      "text/plain": [
       "(35, 40, 40, 52)"
      ]
     },
     "execution_count": 14,
     "metadata": {},
     "output_type": "execute_result"
    }
   ],
   "source": [
    "#number of columns for each year\n",
    "len(col_2014),len(col_2015),len(col_2016),len(col_2017)"
   ]
  },
  {
   "cell_type": "code",
   "execution_count": 24,
   "metadata": {},
   "outputs": [],
   "source": [
    "col_all= col_2014 & col_2015  & col_2016 & col_2017"
   ]
  },
  {
   "cell_type": "code",
   "execution_count": 25,
   "metadata": {},
   "outputs": [
    {
     "data": {
      "text/plain": [
       "2"
      ]
     },
     "execution_count": 25,
     "metadata": {},
     "output_type": "execute_result"
    }
   ],
   "source": [
    "len(col_all)"
   ]
  },
  {
   "cell_type": "code",
   "execution_count": 27,
   "metadata": {},
   "outputs": [],
   "source": [
    "col_567= col_2015  & col_2016 & col_2017"
   ]
  },
  {
   "cell_type": "code",
   "execution_count": 28,
   "metadata": {},
   "outputs": [
    {
     "data": {
      "text/plain": [
       "29"
      ]
     },
     "execution_count": 28,
     "metadata": {},
     "output_type": "execute_result"
    }
   ],
   "source": [
    "len(col_567)"
   ]
  },
  {
   "cell_type": "code",
   "execution_count": 29,
   "metadata": {},
   "outputs": [],
   "source": [
    "col_56=col_2015  & col_2016"
   ]
  },
  {
   "cell_type": "code",
   "execution_count": 30,
   "metadata": {},
   "outputs": [
    {
     "data": {
      "text/plain": [
       "32"
      ]
     },
     "execution_count": 30,
     "metadata": {},
     "output_type": "execute_result"
    }
   ],
   "source": [
    "len(col_56)"
   ]
  },
  {
   "cell_type": "code",
   "execution_count": 31,
   "metadata": {},
   "outputs": [
    {
     "data": {
      "text/plain": [
       "{'EMPLOYER_ADDRESS',\n",
       " 'EMPLOYER_ADDRESS1',\n",
       " 'EMPLOYER_ADDRESS2',\n",
       " 'ORIGINAL_CERT_DATE',\n",
       " 'PW_SOURCE_OTHER',\n",
       " 'PW_SOURCE_YEAR',\n",
       " 'PW_WAGE_LEVEL',\n",
       " 'PW_WAGE_SOURCE_OTHER',\n",
       " 'PW_WAGE_SOURCE_YEAR',\n",
       " 'TOTAL WORKERS',\n",
       " 'TOTAL_WORKERS',\n",
       " 'WAGE_RATE_OF_PAY',\n",
       " 'WAGE_RATE_OF_PAY_FROM',\n",
       " 'WAGE_RATE_OF_PAY_TO',\n",
       " 'WILLFUL VIOLATOR',\n",
       " 'WILLFUL_VIOLATOR'}"
      ]
     },
     "execution_count": 31,
     "metadata": {},
     "output_type": "execute_result"
    }
   ],
   "source": [
    "col_2015  ^ col_2016"
   ]
  },
  {
   "cell_type": "code",
   "execution_count": 32,
   "metadata": {},
   "outputs": [
    {
     "data": {
      "text/plain": [
       "{'EMPLOYER_ADDRESS1',\n",
       " 'EMPLOYER_ADDRESS2',\n",
       " 'PW_WAGE_LEVEL',\n",
       " 'PW_WAGE_SOURCE_OTHER',\n",
       " 'PW_WAGE_SOURCE_YEAR',\n",
       " 'TOTAL WORKERS',\n",
       " 'WAGE_RATE_OF_PAY',\n",
       " 'WILLFUL VIOLATOR'}"
      ]
     },
     "execution_count": 32,
     "metadata": {},
     "output_type": "execute_result"
    }
   ],
   "source": [
    "col_2015.difference(col_2016)"
   ]
  },
  {
   "cell_type": "code",
   "execution_count": 33,
   "metadata": {},
   "outputs": [
    {
     "data": {
      "text/plain": [
       "{'EMPLOYER_ADDRESS',\n",
       " 'ORIGINAL_CERT_DATE',\n",
       " 'PW_SOURCE_OTHER',\n",
       " 'PW_SOURCE_YEAR',\n",
       " 'TOTAL_WORKERS',\n",
       " 'WAGE_RATE_OF_PAY_FROM',\n",
       " 'WAGE_RATE_OF_PAY_TO',\n",
       " 'WILLFUL_VIOLATOR'}"
      ]
     },
     "execution_count": 33,
     "metadata": {},
     "output_type": "execute_result"
    }
   ],
   "source": [
    "col_2016.difference(col_2015)"
   ]
  },
  {
   "cell_type": "code",
   "execution_count": 34,
   "metadata": {},
   "outputs": [
    {
     "data": {
      "text/html": [
       "<div>\n",
       "<style scoped>\n",
       "    .dataframe tbody tr th:only-of-type {\n",
       "        vertical-align: middle;\n",
       "    }\n",
       "\n",
       "    .dataframe tbody tr th {\n",
       "        vertical-align: top;\n",
       "    }\n",
       "\n",
       "    .dataframe thead th {\n",
       "        text-align: right;\n",
       "    }\n",
       "</style>\n",
       "<table border=\"1\" class=\"dataframe\">\n",
       "  <thead>\n",
       "    <tr style=\"text-align: right;\">\n",
       "      <th></th>\n",
       "      <th>CASE_NUMBER</th>\n",
       "      <th>CASE_STATUS</th>\n",
       "      <th>CASE_SUBMITTED</th>\n",
       "      <th>DECISION_DATE</th>\n",
       "      <th>VISA_CLASS</th>\n",
       "      <th>EMPLOYMENT_START_DATE</th>\n",
       "      <th>EMPLOYMENT_END_DATE</th>\n",
       "      <th>EMPLOYER_NAME</th>\n",
       "      <th>EMPLOYER_ADDRESS1</th>\n",
       "      <th>EMPLOYER_ADDRESS2</th>\n",
       "      <th>...</th>\n",
       "      <th>PW_WAGE_SOURCE_YEAR</th>\n",
       "      <th>PW_WAGE_SOURCE_OTHER</th>\n",
       "      <th>WAGE_RATE_OF_PAY</th>\n",
       "      <th>WAGE_UNIT_OF_PAY</th>\n",
       "      <th>H-1B_DEPENDENT</th>\n",
       "      <th>WILLFUL VIOLATOR</th>\n",
       "      <th>WORKSITE_CITY</th>\n",
       "      <th>WORKSITE_COUNTY</th>\n",
       "      <th>WORKSITE_STATE</th>\n",
       "      <th>WORKSITE_POSTAL_CODE</th>\n",
       "    </tr>\n",
       "  </thead>\n",
       "  <tbody>\n",
       "    <tr>\n",
       "      <th>0</th>\n",
       "      <td>I-200-09121-701936</td>\n",
       "      <td>WITHDRAWN</td>\n",
       "      <td>02/05/2015</td>\n",
       "      <td>02/05/2015</td>\n",
       "      <td>H-1B</td>\n",
       "      <td>02/09/2015</td>\n",
       "      <td>02/28/2015</td>\n",
       "      <td>MEDTRONIC, INC.</td>\n",
       "      <td>710 MEDTRONIC PARKWAY NE</td>\n",
       "      <td>NaN</td>\n",
       "      <td>...</td>\n",
       "      <td>2014</td>\n",
       "      <td>ONLINE DATA SURVEY</td>\n",
       "      <td>20000 -</td>\n",
       "      <td>Year</td>\n",
       "      <td>N</td>\n",
       "      <td>N</td>\n",
       "      <td>EDEN PRAIRIE</td>\n",
       "      <td>STERNS</td>\n",
       "      <td>CA</td>\n",
       "      <td>55412</td>\n",
       "    </tr>\n",
       "  </tbody>\n",
       "</table>\n",
       "<p>1 rows × 40 columns</p>\n",
       "</div>"
      ],
      "text/plain": [
       "          CASE_NUMBER CASE_STATUS CASE_SUBMITTED DECISION_DATE VISA_CLASS  \\\n",
       "0  I-200-09121-701936   WITHDRAWN     02/05/2015    02/05/2015       H-1B   \n",
       "\n",
       "  EMPLOYMENT_START_DATE EMPLOYMENT_END_DATE    EMPLOYER_NAME  \\\n",
       "0            02/09/2015          02/28/2015  MEDTRONIC, INC.   \n",
       "\n",
       "          EMPLOYER_ADDRESS1 EMPLOYER_ADDRESS2         ...           \\\n",
       "0  710 MEDTRONIC PARKWAY NE               NaN         ...            \n",
       "\n",
       "  PW_WAGE_SOURCE_YEAR PW_WAGE_SOURCE_OTHER  WAGE_RATE_OF_PAY WAGE_UNIT_OF_PAY  \\\n",
       "0                2014   ONLINE DATA SURVEY           20000 -             Year   \n",
       "\n",
       "   H-1B_DEPENDENT  WILLFUL VIOLATOR  WORKSITE_CITY WORKSITE_COUNTY  \\\n",
       "0               N                 N   EDEN PRAIRIE          STERNS   \n",
       "\n",
       "  WORKSITE_STATE WORKSITE_POSTAL_CODE  \n",
       "0             CA                55412  \n",
       "\n",
       "[1 rows x 40 columns]"
      ]
     },
     "execution_count": 34,
     "metadata": {},
     "output_type": "execute_result"
    }
   ],
   "source": [
    "df_2015_5rows.head(1)"
   ]
  },
  {
   "cell_type": "code",
   "execution_count": 35,
   "metadata": {},
   "outputs": [
    {
     "data": {
      "text/html": [
       "<div>\n",
       "<style scoped>\n",
       "    .dataframe tbody tr th:only-of-type {\n",
       "        vertical-align: middle;\n",
       "    }\n",
       "\n",
       "    .dataframe tbody tr th {\n",
       "        vertical-align: top;\n",
       "    }\n",
       "\n",
       "    .dataframe thead th {\n",
       "        text-align: right;\n",
       "    }\n",
       "</style>\n",
       "<table border=\"1\" class=\"dataframe\">\n",
       "  <thead>\n",
       "    <tr style=\"text-align: right;\">\n",
       "      <th></th>\n",
       "      <th>CASE_NUMBER</th>\n",
       "      <th>CASE_STATUS</th>\n",
       "      <th>CASE_SUBMITTED</th>\n",
       "      <th>DECISION_DATE</th>\n",
       "      <th>VISA_CLASS</th>\n",
       "      <th>EMPLOYMENT_START_DATE</th>\n",
       "      <th>EMPLOYMENT_END_DATE</th>\n",
       "      <th>EMPLOYER_NAME</th>\n",
       "      <th>EMPLOYER_ADDRESS</th>\n",
       "      <th>EMPLOYER_CITY</th>\n",
       "      <th>...</th>\n",
       "      <th>WAGE_RATE_OF_PAY_FROM</th>\n",
       "      <th>WAGE_RATE_OF_PAY_TO</th>\n",
       "      <th>WAGE_UNIT_OF_PAY</th>\n",
       "      <th>H-1B_DEPENDENT</th>\n",
       "      <th>WILLFUL_VIOLATOR</th>\n",
       "      <th>WORKSITE_CITY</th>\n",
       "      <th>WORKSITE_COUNTY</th>\n",
       "      <th>WORKSITE_STATE</th>\n",
       "      <th>WORKSITE_POSTAL_CODE</th>\n",
       "      <th>ORIGINAL_CERT_DATE</th>\n",
       "    </tr>\n",
       "  </thead>\n",
       "  <tbody>\n",
       "    <tr>\n",
       "      <th>0</th>\n",
       "      <td>I-200-12240-490687</td>\n",
       "      <td>CERTIFIED-WITHDRAWN</td>\n",
       "      <td>08/27/2012</td>\n",
       "      <td>10/16/2015</td>\n",
       "      <td>H-1B</td>\n",
       "      <td>02/25/2013</td>\n",
       "      <td>02/24/2016</td>\n",
       "      <td>UNIVERSITY OF MICHIGAN</td>\n",
       "      <td>PIERPONT COMMONS, INTERNATIONAL CENTER</td>\n",
       "      <td>ANN ARBOR</td>\n",
       "      <td>...</td>\n",
       "      <td>41000.0</td>\n",
       "      <td>0</td>\n",
       "      <td>Year</td>\n",
       "      <td>N</td>\n",
       "      <td>N</td>\n",
       "      <td>ANN ARBOR</td>\n",
       "      <td>WASHTENAW</td>\n",
       "      <td>MI</td>\n",
       "      <td>48109</td>\n",
       "      <td>08/31/2012</td>\n",
       "    </tr>\n",
       "  </tbody>\n",
       "</table>\n",
       "<p>1 rows × 40 columns</p>\n",
       "</div>"
      ],
      "text/plain": [
       "          CASE_NUMBER          CASE_STATUS CASE_SUBMITTED DECISION_DATE  \\\n",
       "0  I-200-12240-490687  CERTIFIED-WITHDRAWN     08/27/2012    10/16/2015   \n",
       "\n",
       "  VISA_CLASS EMPLOYMENT_START_DATE EMPLOYMENT_END_DATE  \\\n",
       "0       H-1B            02/25/2013          02/24/2016   \n",
       "\n",
       "            EMPLOYER_NAME                        EMPLOYER_ADDRESS  \\\n",
       "0  UNIVERSITY OF MICHIGAN  PIERPONT COMMONS, INTERNATIONAL CENTER   \n",
       "\n",
       "  EMPLOYER_CITY        ...         WAGE_RATE_OF_PAY_FROM  WAGE_RATE_OF_PAY_TO  \\\n",
       "0     ANN ARBOR        ...                       41000.0                    0   \n",
       "\n",
       "  WAGE_UNIT_OF_PAY  H-1B_DEPENDENT  WILLFUL_VIOLATOR  WORKSITE_CITY  \\\n",
       "0             Year               N                 N      ANN ARBOR   \n",
       "\n",
       "  WORKSITE_COUNTY WORKSITE_STATE WORKSITE_POSTAL_CODE ORIGINAL_CERT_DATE  \n",
       "0       WASHTENAW             MI                48109         08/31/2012  \n",
       "\n",
       "[1 rows x 40 columns]"
      ]
     },
     "execution_count": 35,
     "metadata": {},
     "output_type": "execute_result"
    }
   ],
   "source": [
    "df_2016_5rows.head(1)"
   ]
  },
  {
   "cell_type": "code",
   "execution_count": 36,
   "metadata": {},
   "outputs": [
    {
     "data": {
      "text/plain": [
       "{'AGENT_REPRESENTING_EMPLOYER',\n",
       " 'AMENDED_PETITION',\n",
       " 'CHANGE_EMPLOYER',\n",
       " 'CHANGE_PREVIOUS_EMPLOYMENT',\n",
       " 'CONTINUED_EMPLOYMENT',\n",
       " 'EMPLOYER_BUSINESS_DBA',\n",
       " 'H-1B_DEPENDENT',\n",
       " 'H1B_DEPENDENT',\n",
       " 'LABOR_CON_AGREE',\n",
       " 'NAICS_CODE',\n",
       " 'NAIC_CODE',\n",
       " 'NEW_CONCURRENT_EMPLOYMENT',\n",
       " 'NEW_EMPLOYMENT',\n",
       " 'PUBLIC_DISCLOSURE_LOCATION',\n",
       " 'PW_SOURCE',\n",
       " 'PW_WAGE_LEVEL',\n",
       " 'PW_WAGE_SOURCE',\n",
       " 'SUPPORT_H1B'}"
      ]
     },
     "execution_count": 36,
     "metadata": {},
     "output_type": "execute_result"
    }
   ],
   "source": [
    "col_2017 ^ col_2016"
   ]
  },
  {
   "cell_type": "code",
   "execution_count": null,
   "metadata": {},
   "outputs": [],
   "source": []
  }
 ],
 "metadata": {
  "kernelspec": {
   "display_name": "Python 3",
   "language": "python",
   "name": "python3"
  },
  "language_info": {
   "codemirror_mode": {
    "name": "ipython",
    "version": 3
   },
   "file_extension": ".py",
   "mimetype": "text/x-python",
   "name": "python",
   "nbconvert_exporter": "python",
   "pygments_lexer": "ipython3",
   "version": "3.6.5"
  }
 },
 "nbformat": 4,
 "nbformat_minor": 2
}
