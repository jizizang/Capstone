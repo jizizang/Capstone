{
 "cells": [
  {
   "cell_type": "code",
   "execution_count": 1,
   "metadata": {
    "collapsed": true
   },
   "outputs": [],
   "source": [
    "import pandas as pd\n",
    "import numpy as np\n",
    "from sklearn.model_selection import train_test_split"
   ]
  },
  {
   "cell_type": "code",
   "execution_count": 11,
   "metadata": {},
   "outputs": [
    {
     "name": "stderr",
     "output_type": "stream",
     "text": [
      "/home/ubuntu/anaconda3/lib/python3.6/site-packages/ipykernel_launcher.py:32: UserWarning: Boolean Series key will be reindexed to match DataFrame index.\n",
      "/home/ubuntu/anaconda3/lib/python3.6/site-packages/ipykernel_launcher.py:46: SettingWithCopyWarning: \n",
      "A value is trying to be set on a copy of a slice from a DataFrame.\n",
      "Try using .loc[row_indexer,col_indexer] = value instead\n",
      "\n",
      "See the caveats in the documentation: http://pandas.pydata.org/pandas-docs/stable/indexing.html#indexing-view-versus-copy\n",
      "/home/ubuntu/anaconda3/lib/python3.6/site-packages/ipykernel_launcher.py:47: SettingWithCopyWarning: \n",
      "A value is trying to be set on a copy of a slice from a DataFrame.\n",
      "Try using .loc[row_indexer,col_indexer] = value instead\n",
      "\n",
      "See the caveats in the documentation: http://pandas.pydata.org/pandas-docs/stable/indexing.html#indexing-view-versus-copy\n",
      "/home/ubuntu/anaconda3/lib/python3.6/site-packages/pandas/core/generic.py:3110: SettingWithCopyWarning: \n",
      "A value is trying to be set on a copy of a slice from a DataFrame.\n",
      "Try using .loc[row_indexer,col_indexer] = value instead\n",
      "\n",
      "See the caveats in the documentation: http://pandas.pydata.org/pandas-docs/stable/indexing.html#indexing-view-versus-copy\n",
      "  self[name] = value\n",
      "/home/ubuntu/anaconda3/lib/python3.6/site-packages/ipykernel_launcher.py:54: SettingWithCopyWarning: \n",
      "A value is trying to be set on a copy of a slice from a DataFrame.\n",
      "Try using .loc[row_indexer,col_indexer] = value instead\n",
      "\n",
      "See the caveats in the documentation: http://pandas.pydata.org/pandas-docs/stable/indexing.html#indexing-view-versus-copy\n"
     ]
    }
   ],
   "source": [
    "# Upload the data and conduct preprocessing.\n",
    "\n",
    "data = pd.read_csv(\"h1b_kaggle.csv\")\n",
    "data = data.dropna(axis=0, how='any')\n",
    "\n",
    "data = data[~data.CASE_STATUS.str.contains('WITHDRAWN')]\n",
    "data = data[~data.CASE_STATUS.str.contains('WITHDRAWN')]\n",
    "data = data[~data.CASE_STATUS.str.contains('ASSIGNED')]\n",
    "data = data[~data.CASE_STATUS.str.contains('INVALIDATED')]\n",
    "data = data.replace(to_replace=\"CERTIFIED\", value=1)\n",
    "data = data.replace(to_replace=\"DENIED\", value=0)\n",
    "data = data.replace(to_replace=\"REJECTED\", value=0)\n",
    "data = data.drop('lon', 1)\n",
    "data = data.drop('lat', 1)\n",
    "data = data.drop('JOB_TITLE', 1)\n",
    "data = data.drop('Unnamed: 0', 1)\n",
    "data['FULL_TIME_POSITION'].replace(['Y','N'],['1','0'],inplace=True)\n",
    "\n",
    "\n",
    "# Express worksite based only on states, and give them numbers.\n",
    "Cities,States = data['WORKSITE'].str.split(', ',1).str\n",
    "city_to_state = dict(zip(data['WORKSITE'], States))\n",
    "data['WORKSITE']= data['WORKSITE'].map(city_to_state)\n",
    "data = data[~data.WORKSITE.str.match('NA')]\n",
    "data.WORKSITE = pd.Categorical(data.WORKSITE)\n",
    "data['WORKSITE'] = data.WORKSITE.cat.codes\n",
    "\n",
    "#Quantize the wages and get rid of outliers\n",
    "temp=data.copy()\n",
    "temp[\"PREVAILING_WAGE\"].hist(bins=200,range=[0,400000])\n",
    "t=temp[np.abs(temp[\"PREVAILING_WAGE\"]-temp[\"PREVAILING_WAGE\"].mean())<=(0.1*temp[\"PREVAILING_WAGE\"].std())]\n",
    "t=t[temp[\"PREVAILING_WAGE\"]>0]\n",
    "b=pd.qcut(t[\"PREVAILING_WAGE\"],200)\n",
    "for i in range(1,t[\"PREVAILING_WAGE\"].size):\n",
    "    t[\"PREVAILING_WAGE\"].values[i]=b.values[i].mid\n",
    "data=t\n",
    "\n",
    "# Create a feature for number of applications per company.\n",
    "lookup = data.EMPLOYER_NAME.value_counts()\n",
    "data['APPS_PER_COMPANY']= data['EMPLOYER_NAME'].map(lookup)\n",
    "\n",
    "# Get rid of the companies with less than 4 applications.\n",
    "data=data[data[\"APPS_PER_COMPANY\"]>3]\n",
    "\n",
    "#Clean up SOC_NAME metadata.\n",
    "data['SOC_NAME'] = data['SOC_NAME'].str.upper()\n",
    "data['SOC_NAME'] = data['SOC_NAME'].map(lambda x: str(x).lstrip('*').rstrip('*'))\n",
    "data.SOC_NAME = data.SOC_NAME.str.replace('[^a-zA-Z]', '')\n",
    "data.SOC_NAME = data.SOC_NAME.str.replace('ALLOTHER', '')\n",
    "\n",
    "# Get rid of SOC's that have less than 4 appearances in data.\n",
    "# Create a feature for number of applications per SOC type.\n",
    "lookup = data.SOC_NAME.value_counts()\n",
    "data['APPS_PER_SOC']= data['SOC_NAME'].map(lookup)\n",
    "data=data[data[\"APPS_PER_SOC\"]>3]\n",
    "\n",
    "\n",
    "# Create a feature for number of applications per worksite.\n",
    "lookup = data.WORKSITE.value_counts()\n",
    "data['APPS_PER_WORKSITE']= data['WORKSITE'].map(lookup)\n",
    "\n",
    "# Convert SOC and EMPLOYER_NAME to numeric values.\n",
    "data.SOC_NAME = pd.Categorical(data.SOC_NAME)\n",
    "data['SOC_NAME'] = data.SOC_NAME.cat.codes\n",
    "data.EMPLOYER_NAME = pd.Categorical(data.EMPLOYER_NAME)\n",
    "data['EMPLOYER_NAME'] = data.EMPLOYER_NAME.cat.codes\n",
    "\n",
    "# Create a feature for COMPANY_SUCCESS RATE\n",
    "lookup = data.EMPLOYER_NAME.value_counts()\n",
    "lookup2 = dict(zip(data.EMPLOYER_NAME.unique(),np.zeros((data.EMPLOYER_NAME.value_counts().size))))\n",
    "lkp=lookup.size\n",
    "dd=data.copy()\n",
    "for i in range(0,lkp):\n",
    "#    t = time.time()\n",
    "    loc=dd.EMPLOYER_NAME.values==lookup.index[i]\n",
    "    lookup2[lookup.index[i]]=(np.sum(dd[loc].CASE_STATUS.values))/lookup.values[i]\n",
    "    dd=dd[np.invert(loc)]\n",
    "data['COMPANY_SUCCESS_RATE']= data['EMPLOYER_NAME'].map(lookup2)\n",
    "\n",
    "# Create a feature for SOC_SUCCESS_RATE\n",
    "lookup = data.SOC_NAME.value_counts()\n",
    "lookup2 = dict(zip(data.SOC_NAME.unique(),np.zeros((data.SOC_NAME.value_counts().size))))\n",
    "lkp=lookup.size\n",
    "dd=data.copy()\n",
    "for i in range(0,lkp):\n",
    "#    t = time.time()\n",
    "    loc=dd.SOC_NAME.values==lookup.index[i]\n",
    "    lookup2[lookup.index[i]]=(np.sum(dd[loc].CASE_STATUS.values))/lookup.values[i]\n",
    "    dd=dd[np.invert(loc)]\n",
    "data['SOC_SUCCESS_RATE']= data['SOC_NAME'].map(lookup2)\n",
    "\n",
    "# Create a feature for WORKSITE_SUCCESS_RATE\n",
    "lookup = data.WORKSITE.value_counts()\n",
    "lookup2 = dict(zip(data.WORKSITE.unique(),np.zeros((data.WORKSITE.value_counts().size))))\n",
    "lkp=lookup.size\n",
    "dd=data.copy()\n",
    "for i in range(0,lkp):\n",
    "    loc=dd.WORKSITE.values==lookup.index[i]\n",
    "    lookup2[lookup.index[i]]=(np.sum(dd[loc].CASE_STATUS.values))/lookup.values[i]\n",
    "    dd=dd[np.invert(loc)]\n",
    "data['WORKSITE_SUCCESS_RATE']= data['WORKSITE'].map(lookup2)"
   ]
  },
  {
   "cell_type": "code",
   "execution_count": 12,
   "metadata": {
    "collapsed": true
   },
   "outputs": [],
   "source": [
    "\n",
    "\n",
    "# Learn the distribution of the data.\n",
    "data['CASE_STATUS'].value_counts()\n",
    "# 1    2296865\n",
    "# 0      54177\n",
    "\n",
    "data.apply(pd.Series.nunique)\n",
    "# CASE_STATUS                  2\n",
    "# EMPLOYER_NAME            52535\n",
    "# SOC_NAME                   709\n",
    "# FULL_TIME_POSITION           2\n",
    "# PREVAILING_WAGE          49077\n",
    "# YEAR                         6\n",
    "# WORKSITE                    52\n",
    "# APPS_PER_COMPANY           877\n",
    "# APPS_PER_SOC               379\n",
    "# APPS_PER_WORKSITE           52\n",
    "# COMPANY_SUCCESS_RATE      1856\n",
    "# SOC_SUCCESS_RATE           444\n",
    "# WORKSITE_SUCCESS_RATE       52\n",
    "\n",
    "# Save the preprocessed data to a csv file\n",
    "data.to_csv('h1b_test_processed.csv')\n",
    "\n"
   ]
  },
  {
   "cell_type": "code",
   "execution_count": 13,
   "metadata": {},
   "outputs": [
    {
     "data": {
      "text/plain": [
       "1    2296622\n",
       "0      52519\n",
       "Name: CASE_STATUS, dtype: int64"
      ]
     },
     "execution_count": 13,
     "metadata": {},
     "output_type": "execute_result"
    }
   ],
   "source": [
    "data['CASE_STATUS'].value_counts()"
   ]
  },
  {
   "cell_type": "code",
   "execution_count": 14,
   "metadata": {},
   "outputs": [
    {
     "data": {
      "text/plain": [
       "CASE_STATUS                  2\n",
       "EMPLOYER_NAME            52461\n",
       "SOC_NAME                   709\n",
       "FULL_TIME_POSITION           2\n",
       "PREVAILING_WAGE            200\n",
       "YEAR                         6\n",
       "WORKSITE                    52\n",
       "APPS_PER_COMPANY           888\n",
       "APPS_PER_SOC               376\n",
       "APPS_PER_WORKSITE           52\n",
       "COMPANY_SUCCESS_RATE      1825\n",
       "SOC_SUCCESS_RATE           445\n",
       "WORKSITE_SUCCESS_RATE       52\n",
       "dtype: int64"
      ]
     },
     "execution_count": 14,
     "metadata": {},
     "output_type": "execute_result"
    }
   ],
   "source": [
    "data.apply(pd.Series.nunique)"
   ]
  },
  {
   "cell_type": "code",
   "execution_count": 15,
   "metadata": {
    "collapsed": true
   },
   "outputs": [],
   "source": [
    "\n",
    "data = pd.read_csv(\"h1b_test_processed.csv\")\n",
    "labels = data.CASE_STATUS\n",
    "data = data.drop('CASE_STATUS', 1)\n",
    "data = data.drop('EMPLOYER_NAME', 1)\n",
    "data = data.drop('SOC_NAME', 1)\n",
    "data = data.drop('Unnamed: 0', 1)\n",
    "data = data.drop('YEAR', 1)\n",
    "data = data.drop('WORKSITE', 1)"
   ]
  },
  {
   "cell_type": "code",
   "execution_count": 16,
   "metadata": {
    "collapsed": true
   },
   "outputs": [],
   "source": [
    "\n",
    "\n",
    "from sklearn import preprocessing\n",
    "from sklearn.linear_model import SGDClassifier\n",
    "from sklearn.metrics import accuracy_score\n",
    "\n",
    "# Normalize the data to zero mean and unit variance.\n",
    "scaler = preprocessing.StandardScaler()\n",
    "data[data.columns] = scaler.fit_transform(data[data.columns])\n",
    "# data.mean(axis=0)\n",
    "# data.std(axis=0)\n",
    "\n"
   ]
  },
  {
   "cell_type": "code",
   "execution_count": 27,
   "metadata": {
    "collapsed": true
   },
   "outputs": [],
   "source": [
    "X_train, X_test, y_train, y_test = train_test_split(data, labels, test_size=0.2)"
   ]
  },
  {
   "cell_type": "code",
   "execution_count": 18,
   "metadata": {},
   "outputs": [
    {
     "name": "stderr",
     "output_type": "stream",
     "text": [
      "/home/ubuntu/anaconda3/lib/python3.6/site-packages/ipykernel_launcher.py:1: SettingWithCopyWarning: \n",
      "A value is trying to be set on a copy of a slice from a DataFrame.\n",
      "Try using .loc[row_indexer,col_indexer] = value instead\n",
      "\n",
      "See the caveats in the documentation: http://pandas.pydata.org/pandas-docs/stable/indexing.html#indexing-view-versus-copy\n",
      "  \"\"\"Entry point for launching an IPython kernel.\n"
     ]
    }
   ],
   "source": [
    "X_test['CASE_STATUS'] = y_test\n",
    "X_test_1 = X_test[X_test['CASE_STATUS']==1]\n",
    "X_test_1_sampled = X_test_1.sample(n=11000)\n",
    "X_test_0 = X_test[X_test['CASE_STATUS']==0]\n",
    "X_test = X_test_1_sampled.append(X_test_0)\n",
    "y_test = X_test['CASE_STATUS']\n",
    "X_test = X_test.drop('CASE_STATUS', 1)"
   ]
  },
  {
   "cell_type": "code",
   "execution_count": 19,
   "metadata": {},
   "outputs": [
    {
     "data": {
      "text/plain": [
       "SGDClassifier(alpha=0.0001, average=False, class_weight=None, epsilon=0.1,\n",
       "       eta0=0.5, fit_intercept=True, l1_ratio=0.15,\n",
       "       learning_rate='invscaling', loss='log', max_iter=100, n_iter=None,\n",
       "       n_jobs=1, penalty='l1', power_t=0.1, random_state=None,\n",
       "       shuffle=True, tol=None, verbose=0, warm_start=False)"
      ]
     },
     "execution_count": 19,
     "metadata": {},
     "output_type": "execute_result"
    }
   ],
   "source": [
    "\n",
    "\n",
    "from sklearn.kernel_approximation import RBFSampler\n",
    "clf = SGDClassifier(loss=\"log\",learning_rate='invscaling', eta0 =0.5, penalty=\"l1\",power_t=0.1, max_iter=100)\n",
    "rbf_feature = RBFSampler(gamma=0.1, random_state=1)\n",
    "X_features = rbf_feature.fit_transform(X_train)\n",
    "clf.fit(X_train, y_train)"
   ]
  },
  {
   "cell_type": "code",
   "execution_count": 20,
   "metadata": {},
   "outputs": [
    {
     "data": {
      "text/plain": [
       "0.71905793243466976"
      ]
     },
     "execution_count": 20,
     "metadata": {},
     "output_type": "execute_result"
    }
   ],
   "source": [
    "import sklearn.metrics as skm\n",
    "skm.roc_auc_score(y_test,clf.predict_proba(X_test)[:, 1])"
   ]
  },
  {
   "cell_type": "code",
   "execution_count": 21,
   "metadata": {},
   "outputs": [
    {
     "data": {
      "text/plain": [
       "0.67832146270773597"
      ]
     },
     "execution_count": 21,
     "metadata": {},
     "output_type": "execute_result"
    }
   ],
   "source": [
    "skm.f1_score(y_test,clf.predict(X_test))"
   ]
  },
  {
   "cell_type": "code",
   "execution_count": 22,
   "metadata": {},
   "outputs": [
    {
     "name": "stdout",
     "output_type": "stream",
     "text": [
      "             precision    recall  f1-score   support\n",
      "\n",
      "          0       0.00      0.00      0.00     10433\n",
      "          1       0.51      1.00      0.68     11000\n",
      "\n",
      "avg / total       0.26      0.51      0.35     21433\n",
      "\n"
     ]
    },
    {
     "name": "stderr",
     "output_type": "stream",
     "text": [
      "/home/ubuntu/anaconda3/lib/python3.6/site-packages/sklearn/metrics/classification.py:1135: UndefinedMetricWarning: Precision and F-score are ill-defined and being set to 0.0 in labels with no predicted samples.\n",
      "  'precision', 'predicted', average, warn_for)\n"
     ]
    }
   ],
   "source": [
    "print(skm.classification_report(y_test, clf.predict(X_test)))"
   ]
  },
  {
   "cell_type": "code",
   "execution_count": 23,
   "metadata": {},
   "outputs": [
    {
     "data": {
      "text/html": [
       "<div>\n",
       "<style>\n",
       "    .dataframe thead tr:only-child th {\n",
       "        text-align: right;\n",
       "    }\n",
       "\n",
       "    .dataframe thead th {\n",
       "        text-align: left;\n",
       "    }\n",
       "\n",
       "    .dataframe tbody tr th {\n",
       "        vertical-align: top;\n",
       "    }\n",
       "</style>\n",
       "<table border=\"1\" class=\"dataframe\">\n",
       "  <thead>\n",
       "    <tr style=\"text-align: right;\">\n",
       "      <th>predict</th>\n",
       "      <th>1</th>\n",
       "    </tr>\n",
       "    <tr>\n",
       "      <th>true</th>\n",
       "      <th></th>\n",
       "    </tr>\n",
       "  </thead>\n",
       "  <tbody>\n",
       "    <tr>\n",
       "      <th>0</th>\n",
       "      <td>10433</td>\n",
       "    </tr>\n",
       "    <tr>\n",
       "      <th>1</th>\n",
       "      <td>11000</td>\n",
       "    </tr>\n",
       "  </tbody>\n",
       "</table>\n",
       "</div>"
      ],
      "text/plain": [
       "predict      1\n",
       "true          \n",
       "0        10433\n",
       "1        11000"
      ]
     },
     "execution_count": 23,
     "metadata": {},
     "output_type": "execute_result"
    }
   ],
   "source": [
    "import pandas as pd\n",
    "pd.crosstab(y_test, clf.predict(X_test), rownames=['true'], colnames=['predict'])"
   ]
  },
  {
   "cell_type": "code",
   "execution_count": 24,
   "metadata": {},
   "outputs": [
    {
     "name": "stdout",
     "output_type": "stream",
     "text": [
      "0.513227266365\n"
     ]
    }
   ],
   "source": [
    "print(clf.score(X_test, y_test))"
   ]
  },
  {
   "cell_type": "code",
   "execution_count": 25,
   "metadata": {},
   "outputs": [
    {
     "data": {
      "text/html": [
       "<div>\n",
       "<style>\n",
       "    .dataframe thead tr:only-child th {\n",
       "        text-align: right;\n",
       "    }\n",
       "\n",
       "    .dataframe thead th {\n",
       "        text-align: left;\n",
       "    }\n",
       "\n",
       "    .dataframe tbody tr th {\n",
       "        vertical-align: top;\n",
       "    }\n",
       "</style>\n",
       "<table border=\"1\" class=\"dataframe\">\n",
       "  <thead>\n",
       "    <tr style=\"text-align: right;\">\n",
       "      <th></th>\n",
       "      <th>FULL_TIME_POSITION</th>\n",
       "      <th>PREVAILING_WAGE</th>\n",
       "      <th>APPS_PER_COMPANY</th>\n",
       "      <th>APPS_PER_SOC</th>\n",
       "      <th>APPS_PER_WORKSITE</th>\n",
       "      <th>COMPANY_SUCCESS_RATE</th>\n",
       "      <th>SOC_SUCCESS_RATE</th>\n",
       "      <th>WORKSITE_SUCCESS_RATE</th>\n",
       "    </tr>\n",
       "  </thead>\n",
       "  <tbody>\n",
       "    <tr>\n",
       "      <th>0</th>\n",
       "      <td>0.389538</td>\n",
       "      <td>11.108846</td>\n",
       "      <td>-0.406269</td>\n",
       "      <td>-1.178385</td>\n",
       "      <td>-0.699124</td>\n",
       "      <td>0.373399</td>\n",
       "      <td>-5.749734</td>\n",
       "      <td>-0.234971</td>\n",
       "    </tr>\n",
       "    <tr>\n",
       "      <th>1</th>\n",
       "      <td>0.389538</td>\n",
       "      <td>11.108846</td>\n",
       "      <td>-0.406269</td>\n",
       "      <td>-1.178385</td>\n",
       "      <td>1.839904</td>\n",
       "      <td>0.373399</td>\n",
       "      <td>-5.749734</td>\n",
       "      <td>-0.131467</td>\n",
       "    </tr>\n",
       "    <tr>\n",
       "      <th>2</th>\n",
       "      <td>0.389538</td>\n",
       "      <td>11.108846</td>\n",
       "      <td>-0.406045</td>\n",
       "      <td>-1.178385</td>\n",
       "      <td>-0.286782</td>\n",
       "      <td>0.373399</td>\n",
       "      <td>-5.749734</td>\n",
       "      <td>0.666689</td>\n",
       "    </tr>\n",
       "    <tr>\n",
       "      <th>3</th>\n",
       "      <td>0.389538</td>\n",
       "      <td>2.960829</td>\n",
       "      <td>-0.406269</td>\n",
       "      <td>-1.178385</td>\n",
       "      <td>-0.687817</td>\n",
       "      <td>0.373399</td>\n",
       "      <td>-5.749734</td>\n",
       "      <td>-1.520779</td>\n",
       "    </tr>\n",
       "    <tr>\n",
       "      <th>4</th>\n",
       "      <td>0.389538</td>\n",
       "      <td>1.734477</td>\n",
       "      <td>-0.405949</td>\n",
       "      <td>-1.178385</td>\n",
       "      <td>-0.286782</td>\n",
       "      <td>-0.670470</td>\n",
       "      <td>-5.749734</td>\n",
       "      <td>0.666689</td>\n",
       "    </tr>\n",
       "  </tbody>\n",
       "</table>\n",
       "</div>"
      ],
      "text/plain": [
       "   FULL_TIME_POSITION  PREVAILING_WAGE  APPS_PER_COMPANY  APPS_PER_SOC  \\\n",
       "0            0.389538        11.108846         -0.406269     -1.178385   \n",
       "1            0.389538        11.108846         -0.406269     -1.178385   \n",
       "2            0.389538        11.108846         -0.406045     -1.178385   \n",
       "3            0.389538         2.960829         -0.406269     -1.178385   \n",
       "4            0.389538         1.734477         -0.405949     -1.178385   \n",
       "\n",
       "   APPS_PER_WORKSITE  COMPANY_SUCCESS_RATE  SOC_SUCCESS_RATE  \\\n",
       "0          -0.699124              0.373399         -5.749734   \n",
       "1           1.839904              0.373399         -5.749734   \n",
       "2          -0.286782              0.373399         -5.749734   \n",
       "3          -0.687817              0.373399         -5.749734   \n",
       "4          -0.286782             -0.670470         -5.749734   \n",
       "\n",
       "   WORKSITE_SUCCESS_RATE  \n",
       "0              -0.234971  \n",
       "1              -0.131467  \n",
       "2               0.666689  \n",
       "3              -1.520779  \n",
       "4               0.666689  "
      ]
     },
     "execution_count": 25,
     "metadata": {},
     "output_type": "execute_result"
    }
   ],
   "source": [
    "data.head()"
   ]
  },
  {
   "cell_type": "code",
   "execution_count": 26,
   "metadata": {},
   "outputs": [
    {
     "data": {
      "text/plain": [
       "93897"
      ]
     },
     "execution_count": 26,
     "metadata": {},
     "output_type": "execute_result"
    }
   ],
   "source": [
    "X_test_0.size"
   ]
  },
  {
   "cell_type": "code",
   "execution_count": null,
   "metadata": {
    "collapsed": true
   },
   "outputs": [],
   "source": []
  }
 ],
 "metadata": {
  "kernelspec": {
   "display_name": "Python 3",
   "language": "python",
   "name": "python3"
  },
  "language_info": {
   "codemirror_mode": {
    "name": "ipython",
    "version": 3
   },
   "file_extension": ".py",
   "mimetype": "text/x-python",
   "name": "python",
   "nbconvert_exporter": "python",
   "pygments_lexer": "ipython3",
   "version": "3.6.3"
  }
 },
 "nbformat": 4,
 "nbformat_minor": 2
}
